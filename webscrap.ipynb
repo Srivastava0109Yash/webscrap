{
 "cells": [
  {
   "cell_type": "code",
   "execution_count": 6,
   "id": "fbda0f7d-2962-4256-adbf-113e6c99282d",
   "metadata": {},
   "outputs": [],
   "source": [
    "import requests\n",
    "from bs4 import BeautifulSoup as bs\n",
    "from urllib.request import urlopen as uReq\n",
    "import logging"
   ]
  },
  {
   "cell_type": "code",
   "execution_count": 7,
   "id": "827aa2f3-1379-430e-b551-75e9ccf845a7",
   "metadata": {},
   "outputs": [],
   "source": [
    "flipkart_url ='https://www.flipkart.com/search?q='+'iphone11'"
   ]
  },
  {
   "cell_type": "code",
   "execution_count": 8,
   "id": "4b806236-8cc7-48d2-b8b5-ca5f03f5adc7",
   "metadata": {},
   "outputs": [
    {
     "data": {
      "text/plain": [
       "'https://www.flipkart.com/search?q=iphone11'"
      ]
     },
     "execution_count": 8,
     "metadata": {},
     "output_type": "execute_result"
    }
   ],
   "source": [
    "flipkart_url"
   ]
  },
  {
   "cell_type": "code",
   "execution_count": 9,
   "id": "24a20a95-3e62-406e-8524-e04efdaeaf0a",
   "metadata": {},
   "outputs": [],
   "source": [
    "urlclient=uReq(flipkart_url)"
   ]
  },
  {
   "cell_type": "code",
   "execution_count": 10,
   "id": "5adf52fe-1392-4a4c-b6dd-9876c7ea5aa0",
   "metadata": {},
   "outputs": [],
   "source": [
    "flipkart_page=urlclient.read()"
   ]
  },
  {
   "cell_type": "code",
   "execution_count": 12,
   "id": "4ec248c9-1491-44d6-8b85-605c264c6e72",
   "metadata": {},
   "outputs": [],
   "source": [
    "flipkart_html=bs(flipkart_page,'html.parser')"
   ]
  },
  {
   "cell_type": "code",
   "execution_count": 15,
   "id": "b099bb32-111e-424b-8cb5-544c6b9b387b",
   "metadata": {},
   "outputs": [],
   "source": [
    "bigbox=flipkart_html.findAll(\"div\",{\"class\":\"_1AtVbE col-12-12\"})"
   ]
  },
  {
   "cell_type": "code",
   "execution_count": 16,
   "id": "41ca6b96-06f6-4b42-867d-c9711ad3c532",
   "metadata": {},
   "outputs": [
    {
     "data": {
      "text/plain": [
       "30"
      ]
     },
     "execution_count": 16,
     "metadata": {},
     "output_type": "execute_result"
    }
   ],
   "source": [
    "len(bigbox)"
   ]
  },
  {
   "cell_type": "code",
   "execution_count": 28,
   "id": "e96667d5-5637-4614-8865-ae1cfb4dcae7",
   "metadata": {},
   "outputs": [],
   "source": [
    "del bigbox[0:3]"
   ]
  },
  {
   "cell_type": "code",
   "execution_count": 29,
   "id": "88d028b2-a75b-41f8-aead-6f37c8ba2984",
   "metadata": {},
   "outputs": [
    {
     "data": {
      "text/plain": [
       "'/apple-iphone-11-green-64-gb/p/itm386a85013a3d1?pid=MOBFWQ6BHPMG29QM&lid=LSTMOBFWQ6BHPMG29QMSPPOYD&marketplace=FLIPKART&q=iphone11&store=tyy%2F4io&srno=s_1_8&otracker=search&fm=organic&iid=3c2d51ae-468b-48fa-8b5d-1dc0a4f95ba7.MOBFWQ6BHPMG29QM.SEARCH&ppt=None&ppn=None&ssid=pq8o0qnck00000001676999300760&qH=d6db477051465f9a'"
      ]
     },
     "execution_count": 29,
     "metadata": {},
     "output_type": "execute_result"
    }
   ],
   "source": [
    "bigbox[3].div.div.div.a['href']"
   ]
  },
  {
   "cell_type": "code",
   "execution_count": 33,
   "id": "4ab3a8f9-ced6-45a6-8dc8-cc934b21b3d8",
   "metadata": {},
   "outputs": [],
   "source": [
    "# reviews\n",
    "productlink='https://www.flipkart.com'+ bigbox[3].div.div.div.a['href']"
   ]
  },
  {
   "cell_type": "code",
   "execution_count": 34,
   "id": "d1e456e9-d847-4cf2-91ec-0c1406c36896",
   "metadata": {},
   "outputs": [],
   "source": [
    "prod_req=requests.get(productlink)"
   ]
  },
  {
   "cell_type": "code",
   "execution_count": 37,
   "id": "7aa4ad82-b1c4-4a55-86ee-8a46c1061300",
   "metadata": {},
   "outputs": [
    {
     "data": {
      "text/plain": [
       "'https://www.flipkart.com/apple-iphone-11-green-64-gb/p/itm386a85013a3d1?pid=MOBFWQ6BHPMG29QM&lid=LSTMOBFWQ6BHPMG29QMSPPOYD&marketplace=FLIPKART&q=iphone11&store=tyy%2F4io&srno=s_1_8&otracker=search&fm=organic&iid=3c2d51ae-468b-48fa-8b5d-1dc0a4f95ba7.MOBFWQ6BHPMG29QM.SEARCH&ppt=None&ppn=None&ssid=pq8o0qnck00000001676999300760&qH=d6db477051465f9a'"
      ]
     },
     "execution_count": 37,
     "metadata": {},
     "output_type": "execute_result"
    }
   ],
   "source": [
    "productlink"
   ]
  },
  {
   "cell_type": "code",
   "execution_count": 40,
   "id": "be7f635d-aa31-45ce-b3cc-710bbe77673b",
   "metadata": {},
   "outputs": [],
   "source": [
    "product_html=bs(prod_req.text,'html.parser')"
   ]
  },
  {
   "cell_type": "code",
   "execution_count": 41,
   "id": "1b0e57f0-fbeb-4e76-ac43-0a0914767583",
   "metadata": {},
   "outputs": [],
   "source": [
    "# review"
   ]
  },
  {
   "cell_type": "code",
   "execution_count": 43,
   "id": "d939a4b2-0c6a-4f48-bea0-eca0207e51b9",
   "metadata": {},
   "outputs": [],
   "source": [
    "comment_box=product_html.find_all(\"div\",{'class':'_16PBlm'})"
   ]
  },
  {
   "cell_type": "code",
   "execution_count": 44,
   "id": "0f300e3e-f9b6-4b4c-a6e4-1f7f1aac0211",
   "metadata": {},
   "outputs": [
    {
     "data": {
      "text/plain": [
       "11"
      ]
     },
     "execution_count": 44,
     "metadata": {},
     "output_type": "execute_result"
    }
   ],
   "source": [
    "len(comment_box)"
   ]
  },
  {
   "cell_type": "code",
   "execution_count": 61,
   "id": "272fc19e-ccb7-4107-aa8f-06ea07a63f8b",
   "metadata": {},
   "outputs": [
    {
     "data": {
      "text/plain": [
       "'Flipkart Customer'"
      ]
     },
     "execution_count": 61,
     "metadata": {},
     "output_type": "execute_result"
    }
   ],
   "source": [
    "comment_box[0].div.div.find_all('p',{\"class\":\"_2sc7ZR _2V5EHH\"})[0].text"
   ]
  },
  {
   "cell_type": "code",
   "execution_count": 64,
   "id": "3e932aac-951e-4908-af12-7cc15d92b534",
   "metadata": {},
   "outputs": [
    {
     "name": "stdout",
     "output_type": "stream",
     "text": [
      "Flipkart Customer\n",
      "Flipkart Customer\n",
      "Manish Raghuvanshi\n",
      "George Haokip\n",
      "Jimly  Gogoi\n",
      "Vamshi  Chakrala \n",
      "Chirag Rajput\n",
      "Vishal Dubey\n",
      "vijay hegde\n",
      "Rahul Verma\n"
     ]
    },
    {
     "ename": "AttributeError",
     "evalue": "'NoneType' object has no attribute 'div'",
     "output_type": "error",
     "traceback": [
      "\u001b[0;31m---------------------------------------------------------------------------\u001b[0m",
      "\u001b[0;31mAttributeError\u001b[0m                            Traceback (most recent call last)",
      "Cell \u001b[0;32mIn[64], line 2\u001b[0m\n\u001b[1;32m      1\u001b[0m \u001b[38;5;28;01mfor\u001b[39;00m i \u001b[38;5;129;01min\u001b[39;00m comment_box:\n\u001b[0;32m----> 2\u001b[0m     \u001b[38;5;28mprint\u001b[39m(\u001b[43mi\u001b[49m\u001b[38;5;241;43m.\u001b[39;49m\u001b[43mdiv\u001b[49m\u001b[38;5;241;43m.\u001b[39;49m\u001b[43mdiv\u001b[49m\u001b[38;5;241m.\u001b[39mfind_all(\u001b[38;5;124m'\u001b[39m\u001b[38;5;124mp\u001b[39m\u001b[38;5;124m'\u001b[39m,{\u001b[38;5;124m\"\u001b[39m\u001b[38;5;124mclass\u001b[39m\u001b[38;5;124m\"\u001b[39m:\u001b[38;5;124m\"\u001b[39m\u001b[38;5;124m_2sc7ZR _2V5EHH\u001b[39m\u001b[38;5;124m\"\u001b[39m})[\u001b[38;5;241m0\u001b[39m]\u001b[38;5;241m.\u001b[39mtext)\n",
      "\u001b[0;31mAttributeError\u001b[0m: 'NoneType' object has no attribute 'div'"
     ]
    }
   ],
   "source": [
    "for i in comment_box:\n",
    "    print(i.div.div.find_all('p',{\"class\":\"_2sc7ZR _2V5EHH\"})[0].text)"
   ]
  },
  {
   "cell_type": "code",
   "execution_count": null,
   "id": "7a2c78f2-2376-499e-9c08-2cd36956fa03",
   "metadata": {},
   "outputs": [],
   "source": [
    "# ratings:"
   ]
  },
  {
   "cell_type": "code",
   "execution_count": 67,
   "id": "01ffc216-d5e8-4be9-87dc-84bed344a84d",
   "metadata": {},
   "outputs": [
    {
     "data": {
      "text/plain": [
       "'5'"
      ]
     },
     "execution_count": 67,
     "metadata": {},
     "output_type": "execute_result"
    }
   ],
   "source": [
    "comment_box[0].div.div.div.div.text"
   ]
  },
  {
   "cell_type": "code",
   "execution_count": 68,
   "id": "77653c9f-b87c-42db-ae2c-0392f931788c",
   "metadata": {},
   "outputs": [
    {
     "name": "stdout",
     "output_type": "stream",
     "text": [
      "5\n",
      "5\n",
      "5\n",
      "4\n",
      "5\n",
      "5\n",
      "5\n",
      "5\n",
      "4\n",
      "5\n"
     ]
    },
    {
     "ename": "AttributeError",
     "evalue": "'NoneType' object has no attribute 'div'",
     "output_type": "error",
     "traceback": [
      "\u001b[0;31m---------------------------------------------------------------------------\u001b[0m",
      "\u001b[0;31mAttributeError\u001b[0m                            Traceback (most recent call last)",
      "Cell \u001b[0;32mIn[68], line 2\u001b[0m\n\u001b[1;32m      1\u001b[0m \u001b[38;5;28;01mfor\u001b[39;00m i \u001b[38;5;129;01min\u001b[39;00m comment_box:\n\u001b[0;32m----> 2\u001b[0m     \u001b[38;5;28mprint\u001b[39m(\u001b[43mi\u001b[49m\u001b[38;5;241;43m.\u001b[39;49m\u001b[43mdiv\u001b[49m\u001b[38;5;241;43m.\u001b[39;49m\u001b[43mdiv\u001b[49m\u001b[38;5;241m.\u001b[39mdiv\u001b[38;5;241m.\u001b[39mdiv\u001b[38;5;241m.\u001b[39mtext)\n",
      "\u001b[0;31mAttributeError\u001b[0m: 'NoneType' object has no attribute 'div'"
     ]
    }
   ],
   "source": [
    "for i in comment_box:\n",
    "    print(i.div.div.div.div.text)"
   ]
  },
  {
   "cell_type": "code",
   "execution_count": 69,
   "id": "f4108a6a-fe37-4a88-90f1-64eae21790e0",
   "metadata": {},
   "outputs": [],
   "source": [
    "#comment header:"
   ]
  },
  {
   "cell_type": "code",
   "execution_count": 76,
   "id": "8992b477-021e-4749-b2dc-91f9b74c0e90",
   "metadata": {},
   "outputs": [
    {
     "data": {
      "text/plain": [
       "'Simply awesome'"
      ]
     },
     "execution_count": 76,
     "metadata": {},
     "output_type": "execute_result"
    }
   ],
   "source": [
    "comment_box[0].div.div.div.p.text"
   ]
  },
  {
   "cell_type": "code",
   "execution_count": 77,
   "id": "b31380c1-4998-461a-adce-09e367fa2ed9",
   "metadata": {},
   "outputs": [
    {
     "name": "stdout",
     "output_type": "stream",
     "text": [
      "Simply awesome\n",
      "Perfect product!\n",
      "Best in the market!\n",
      "Value-for-money\n",
      "Highly recommended\n",
      "Worth every penny\n",
      "Perfect product!\n",
      "Highly recommended\n",
      "Pretty good\n",
      "Great product\n"
     ]
    },
    {
     "ename": "AttributeError",
     "evalue": "'NoneType' object has no attribute 'div'",
     "output_type": "error",
     "traceback": [
      "\u001b[0;31m---------------------------------------------------------------------------\u001b[0m",
      "\u001b[0;31mAttributeError\u001b[0m                            Traceback (most recent call last)",
      "Cell \u001b[0;32mIn[77], line 2\u001b[0m\n\u001b[1;32m      1\u001b[0m \u001b[38;5;28;01mfor\u001b[39;00m i \u001b[38;5;129;01min\u001b[39;00m comment_box:\n\u001b[0;32m----> 2\u001b[0m     \u001b[38;5;28mprint\u001b[39m(\u001b[43mi\u001b[49m\u001b[38;5;241;43m.\u001b[39;49m\u001b[43mdiv\u001b[49m\u001b[38;5;241;43m.\u001b[39;49m\u001b[43mdiv\u001b[49m\u001b[38;5;241m.\u001b[39mdiv\u001b[38;5;241m.\u001b[39mp\u001b[38;5;241m.\u001b[39mtext)\n",
      "\u001b[0;31mAttributeError\u001b[0m: 'NoneType' object has no attribute 'div'"
     ]
    }
   ],
   "source": [
    "for i in comment_box:\n",
    "    print(i.div.div.div.p.text)"
   ]
  },
  {
   "cell_type": "code",
   "execution_count": 78,
   "id": "1e0fc933-a4fb-4143-a946-116b72957a4b",
   "metadata": {},
   "outputs": [],
   "source": [
    "# Actual comment:"
   ]
  },
  {
   "cell_type": "code",
   "execution_count": 84,
   "id": "58f251b9-ca2b-4ece-aa18-9b6576e64540",
   "metadata": {},
   "outputs": [
    {
     "data": {
      "text/plain": [
       "'Really satisfied with the Product I received... It’s totally genuine and the packaging was also really good so if ur planning to buy just go for it.'"
      ]
     },
     "execution_count": 84,
     "metadata": {},
     "output_type": "execute_result"
    }
   ],
   "source": [
    "comment_box[0].div.div.find_all('div',{'class':''})[0].div.text"
   ]
  },
  {
   "cell_type": "code",
   "execution_count": 85,
   "id": "0cba65a0-1b47-4fe0-8bd8-1437d22babd8",
   "metadata": {},
   "outputs": [
    {
     "name": "stdout",
     "output_type": "stream",
     "text": [
      "Really satisfied with the Product I received... It’s totally genuine and the packaging was also really good so if ur planning to buy just go for it.\n",
      "Amazing phone with great cameras and better battery which gives you the best performance. I just love the camera .\n",
      "Great iPhone very snappy experience as apple kind. Upgraded from iPhone 7. Pros-Camera top class - Battery top performed -Chipset no need to say as apple kind -Security as you expect from apple - Display super bright industry leading colour   accuracy and super responsive -Build quality as expect from apple sturdy  premium durable beautiful stylish. -Os most stable os in smartphone industry Cons -No 5G-Display is not based on OLED technology -Charger headphones and 1 apple stic...\n",
      "I'm Really happy with the productDelivery was fast as well..it was a gift for my sister and she loved it so much.\n",
      "It's my first time to use iOS phone and I am loving my upgradation 😍😍 I love the color, I love the assebility of the phone....I need to learn more about its functionality, but as far as I have seen, it's quite easy and it has a lot of functions to work on, specially if you are a content writer or a blogger you get a lot of content creation platforms and they are really amazing. This phone not only for good quality photography but a lot of other task too.😍💯\n",
      "Previously I was using one plus 3t it was a great phone And then I decided to upgrade I am stuck between Samsung s10 plus or iPhone 11 I have seen the specs and everything were good except the display it’s somewhere between 720-1080 and it’s not even an amoled it’s an LCD display But I decided to go with iPhone because I have never used an IOS device I have Been an android user from the past 9 years I ordered IPhone 11 (128gb) product redMy experience after using 3 weeks 1. The delivery ...\n",
      "Value for money5 star rating Excellent cameraBattery backup full day in single charge.Tougher and water resistant design, glossy back.The screen has excellent brightness and contrast.Apple A13 Bionic is the fastest smartphone chip on the planet.Excellent battery life, fast charging support.Stereo speakers with great quality.\n",
      "What a camera .....just awesome ..you can feel this iPhone just awesome . Good for gaming also ...try pubg in hd it’s just wow\n",
      "I was using Iphone 6s and also Oneplus 6t. Both mobiles were perfectly alright in Photos, gaming, and smooth interface . My 6s mobile getting battery issue. thought upgrade to 11. Really like this mobile of its Internal storage (compare to 6s) , camera and its touch feeling. Its a worth buying mobile for me.\n",
      "Amazing Powerful and Durable Gadget.I’m am very happy with the camera picture quality, Amazing face id unlocked in dark room, Strong battery with perfect screen size as you can carry easily in pocket. This is my third iPhone. I shifted from android Samsung Note series to iPhone because of the strong build quality and peace of mind for next 3-4 years.Don’t think to much just go for it and I suggest you to go for minimum 128gb variant or more 256gb. I’ve attached my puppy pics and no fi...\n"
     ]
    },
    {
     "ename": "AttributeError",
     "evalue": "'NoneType' object has no attribute 'div'",
     "output_type": "error",
     "traceback": [
      "\u001b[0;31m---------------------------------------------------------------------------\u001b[0m",
      "\u001b[0;31mAttributeError\u001b[0m                            Traceback (most recent call last)",
      "Cell \u001b[0;32mIn[85], line 2\u001b[0m\n\u001b[1;32m      1\u001b[0m \u001b[38;5;28;01mfor\u001b[39;00m i \u001b[38;5;129;01min\u001b[39;00m comment_box:\n\u001b[0;32m----> 2\u001b[0m     \u001b[38;5;28mprint\u001b[39m(\u001b[43mi\u001b[49m\u001b[38;5;241;43m.\u001b[39;49m\u001b[43mdiv\u001b[49m\u001b[38;5;241;43m.\u001b[39;49m\u001b[43mdiv\u001b[49m\u001b[38;5;241m.\u001b[39mfind_all(\u001b[38;5;124m'\u001b[39m\u001b[38;5;124mdiv\u001b[39m\u001b[38;5;124m'\u001b[39m,{\u001b[38;5;124m'\u001b[39m\u001b[38;5;124mclass\u001b[39m\u001b[38;5;124m'\u001b[39m:\u001b[38;5;124m'\u001b[39m\u001b[38;5;124m'\u001b[39m})[\u001b[38;5;241m0\u001b[39m]\u001b[38;5;241m.\u001b[39mdiv\u001b[38;5;241m.\u001b[39mtext)\n",
      "\u001b[0;31mAttributeError\u001b[0m: 'NoneType' object has no attribute 'div'"
     ]
    }
   ],
   "source": [
    "for i in comment_box:\n",
    "    print(i.div.div.find_all('div',{'class':''})[0].div.text)"
   ]
  },
  {
   "cell_type": "code",
   "execution_count": null,
   "id": "179f4ec5-034f-4f8c-b9a1-feb17f031469",
   "metadata": {},
   "outputs": [],
   "source": []
  },
  {
   "cell_type": "code",
   "execution_count": 32,
   "id": "deacaa92-357a-4c29-8b9b-627e6cefe153",
   "metadata": {},
   "outputs": [
    {
     "name": "stdout",
     "output_type": "stream",
     "text": [
      "https://www.flipkart.com/apple-iphone-11-red-128-gb/p/itm8d14bd0e33a1c?pid=MOBFWQ6BEZTNK59G&lid=LSTMOBFWQ6BEZTNK59G4PTPDM&marketplace=FLIPKART&q=iphone11&store=tyy%2F4io&srno=s_1_5&otracker=search&fm=organic&iid=3c2d51ae-468b-48fa-8b5d-1dc0a4f95ba7.MOBFWQ6BEZTNK59G.SEARCH&ppt=None&ppn=None&ssid=pq8o0qnck00000001676999300760&qH=d6db477051465f9a\n",
      "https://www.flipkart.com/apple-iphone-11-red-64-gb/p/itmc3935326f2feb?pid=MOBFWQ6BYYV3FCU7&lid=LSTMOBFWQ6BYYV3FCU7ZCY7Y9&marketplace=FLIPKART&q=iphone11&store=tyy%2F4io&srno=s_1_6&otracker=search&fm=organic&iid=3c2d51ae-468b-48fa-8b5d-1dc0a4f95ba7.MOBFWQ6BYYV3FCU7.SEARCH&ppt=None&ppn=None&ssid=pq8o0qnck00000001676999300760&qH=d6db477051465f9a\n",
      "https://www.flipkart.com/apple-iphone-11-yellow-64-gb/p/itm39b1a0ba9ddcb?pid=MOBFWQ6BWGX9VRFS&lid=LSTMOBFWQ6BWGX9VRFSWZG0HT&marketplace=FLIPKART&q=iphone11&store=tyy%2F4io&srno=s_1_7&otracker=search&fm=organic&iid=3c2d51ae-468b-48fa-8b5d-1dc0a4f95ba7.MOBFWQ6BWGX9VRFS.SEARCH&ppt=None&ppn=None&ssid=pq8o0qnck00000001676999300760&qH=d6db477051465f9a\n",
      "https://www.flipkart.com/apple-iphone-11-green-64-gb/p/itm386a85013a3d1?pid=MOBFWQ6BHPMG29QM&lid=LSTMOBFWQ6BHPMG29QMSPPOYD&marketplace=FLIPKART&q=iphone11&store=tyy%2F4io&srno=s_1_8&otracker=search&fm=organic&iid=3c2d51ae-468b-48fa-8b5d-1dc0a4f95ba7.MOBFWQ6BHPMG29QM.SEARCH&ppt=None&ppn=None&ssid=pq8o0qnck00000001676999300760&qH=d6db477051465f9a\n",
      "https://www.flipkart.com/apple-iphone-11-pro-max-midnight-green-64-gb/p/itmab1763b5ca244?pid=MOBFKCTSRYPAQNYT&lid=LSTMOBFKCTSRYPAQNYTHKCI74&marketplace=FLIPKART&q=iphone11&store=tyy%2F4io&srno=s_1_9&otracker=search&fm=organic&iid=3c2d51ae-468b-48fa-8b5d-1dc0a4f95ba7.MOBFKCTSRYPAQNYT.SEARCH&ppt=None&ppn=None&ssid=pq8o0qnck00000001676999300760&qH=d6db477051465f9a\n",
      "https://www.flipkart.com/apple-iphone-11-pro-max-space-grey-64-gb/p/itme0101031155f8?pid=MOBFKCTSKDMKCGQS&lid=LSTMOBFKCTSKDMKCGQS40HFWI&marketplace=FLIPKART&q=iphone11&store=tyy%2F4io&srno=s_1_10&otracker=search&fm=organic&iid=3c2d51ae-468b-48fa-8b5d-1dc0a4f95ba7.MOBFKCTSKDMKCGQS.SEARCH&ppt=None&ppn=None&ssid=pq8o0qnck00000001676999300760&qH=d6db477051465f9a\n",
      "https://www.flipkart.com/apple-iphone-11-pro-midnight-green-64-gb/p/itm471de0d2e8474?pid=MOBFKCTSN3TG3RFJ&lid=LSTMOBFKCTSN3TG3RFJ5P8RRW&marketplace=FLIPKART&q=iphone11&store=tyy%2F4io&srno=s_1_11&otracker=search&fm=organic&iid=3c2d51ae-468b-48fa-8b5d-1dc0a4f95ba7.MOBFKCTSN3TG3RFJ.SEARCH&ppt=None&ppn=None&ssid=pq8o0qnck00000001676999300760&qH=d6db477051465f9a\n",
      "https://www.flipkart.com/apple-iphone-6-gold-32-gb/p/itmewxhuufbzchrn?pid=MOBEWXHUSBXVJ7NZ&lid=LSTMOBEWXHUSBXVJ7NZVRFXNL&marketplace=FLIPKART&q=iphone11&store=tyy%2F4io&srno=s_1_12&otracker=search&fm=organic&iid=3c2d51ae-468b-48fa-8b5d-1dc0a4f95ba7.MOBEWXHUSBXVJ7NZ.SEARCH&ppt=None&ppn=None&ssid=pq8o0qnck00000001676999300760&qH=d6db477051465f9a\n",
      "https://www.flipkart.com/apple-iphone-6-space-grey-32-gb/p/itmetmh3hfhnxtcj?pid=MOBETMH3ZYNDPVVC&lid=LSTMOBETMH3ZYNDPVVC7BAC1S&marketplace=FLIPKART&q=iphone11&store=tyy%2F4io&srno=s_1_13&otracker=search&fm=organic&iid=3c2d51ae-468b-48fa-8b5d-1dc0a4f95ba7.MOBETMH3ZYNDPVVC.SEARCH&ppt=None&ppn=None&ssid=pq8o0qnck00000001676999300760&qH=d6db477051465f9a\n",
      "https://www.flipkart.com/apple-iphone-6-space-grey-16-gb/p/itmefjg7mzcwjyhk?pid=MOBEYHZ2YAXZMF2J&lid=LSTMOBEYHZ2YAXZMF2JEVWVNC&marketplace=FLIPKART&q=iphone11&store=tyy%2F4io&srno=s_1_14&otracker=search&fm=organic&iid=3c2d51ae-468b-48fa-8b5d-1dc0a4f95ba7.MOBEYHZ2YAXZMF2J.SEARCH&ppt=None&ppn=None&ssid=pq8o0qnck00000001676999300760&qH=d6db477051465f9a\n",
      "https://www.flipkart.com/apple-iphone-11-purple-64-gb/p/itm2b8d03427ddac?pid=MOBFWQ6BTFFJKGKE&lid=LSTMOBFWQ6BTFFJKGKEPHMT2V&marketplace=FLIPKART&q=iphone11&store=tyy%2F4io&srno=s_1_15&otracker=search&fm=organic&iid=3c2d51ae-468b-48fa-8b5d-1dc0a4f95ba7.MOBFWQ6BTFFJKGKE.SEARCH&ppt=None&ppn=None&ssid=pq8o0qnck00000001676999300760&qH=d6db477051465f9a\n",
      "https://www.flipkart.com/apple-iphone-11-pro-max-gold-64-gb/p/itm6ef18218efdf6?pid=MOBFKCTSAPAYNSGG&lid=LSTMOBFKCTSAPAYNSGGKWDGRM&marketplace=FLIPKART&q=iphone11&store=tyy%2F4io&srno=s_1_16&otracker=search&fm=organic&iid=3c2d51ae-468b-48fa-8b5d-1dc0a4f95ba7.MOBFKCTSAPAYNSGG.SEARCH&ppt=None&ppn=None&ssid=pq8o0qnck00000001676999300760&qH=d6db477051465f9a\n",
      "https://www.flipkart.com/apple-iphone-11-pro-silver-256-gb/p/itm08eae2709cac6?pid=MOBFKCTST7PU7BWR&lid=LSTMOBFKCTST7PU7BWRAQB29Z&marketplace=FLIPKART&q=iphone11&store=tyy%2F4io&srno=s_1_17&otracker=search&fm=organic&iid=3c2d51ae-468b-48fa-8b5d-1dc0a4f95ba7.MOBFKCTST7PU7BWR.SEARCH&ppt=None&ppn=None&ssid=pq8o0qnck00000001676999300760&qH=d6db477051465f9a\n",
      "https://www.flipkart.com/apple-iphone-5s-space-grey-16-gb/p/itmf02539a2e3a6c?pid=MOBDPPZZPXVDJHSQ&lid=LSTMOBDPPZZPXVDJHSQCAKZOA&marketplace=FLIPKART&q=iphone11&store=tyy%2F4io&srno=s_1_18&otracker=search&fm=organic&iid=3c2d51ae-468b-48fa-8b5d-1dc0a4f95ba7.MOBDPPZZPXVDJHSQ.SEARCH&ppt=None&ppn=None&ssid=pq8o0qnck00000001676999300760&qH=d6db477051465f9a\n",
      "https://www.flipkart.com/apple-iphone-11-yellow-128-gb/p/itm7030edc9e100e?pid=MOBFWQ6BWTSBJSHY&lid=LSTMOBFWQ6BWTSBJSHYJG1Q5J&marketplace=FLIPKART&q=iphone11&store=tyy%2F4io&srno=s_1_19&otracker=search&fm=organic&iid=3c2d51ae-468b-48fa-8b5d-1dc0a4f95ba7.MOBFWQ6BWTSBJSHY.SEARCH&ppt=None&ppn=None&ssid=pq8o0qnck00000001676999300760&qH=d6db477051465f9a\n",
      "https://www.flipkart.com/apple-iphone-11-purple-128-gb/p/itmb7ca0b05522ff?pid=MOBFWQ6BEHFXGXGB&lid=LSTMOBFWQ6BEHFXGXGBIS2J2K&marketplace=FLIPKART&q=iphone11&store=tyy%2F4io&srno=s_1_20&otracker=search&fm=organic&iid=3c2d51ae-468b-48fa-8b5d-1dc0a4f95ba7.MOBFWQ6BEHFXGXGB.SEARCH&ppt=None&ppn=None&ssid=pq8o0qnck00000001676999300760&qH=d6db477051465f9a\n",
      "https://www.flipkart.com/apple-iphone-11-green-128-gb/p/itm97529bbf640ca?pid=MOBFWQ6BHBKMH4BF&lid=LSTMOBFWQ6BHBKMH4BFPOHIFL&marketplace=FLIPKART&q=iphone11&store=tyy%2F4io&srno=s_1_21&otracker=search&fm=organic&iid=3c2d51ae-468b-48fa-8b5d-1dc0a4f95ba7.MOBFWQ6BHBKMH4BF.SEARCH&ppt=None&ppn=None&ssid=pq8o0qnck00000001676999300760&qH=d6db477051465f9a\n",
      "https://www.flipkart.com/apple-iphone-11-pro-space-grey-256-gb/p/itmbecef22a95790?pid=MOBFKCTSWGYSAS9X&lid=LSTMOBFKCTSWGYSAS9X2RHASU&marketplace=FLIPKART&q=iphone11&store=tyy%2F4io&srno=s_1_22&otracker=search&fm=organic&iid=3c2d51ae-468b-48fa-8b5d-1dc0a4f95ba7.MOBFKCTSWGYSAS9X.SEARCH&ppt=None&ppn=None&ssid=pq8o0qnck00000001676999300760&qH=d6db477051465f9a\n",
      "https://www.flipkart.com/apple-iphone-11-pro-max-silver-256-gb/p/itm90a95d4c7bfb4?pid=MOBFKCTSVH4EWXBV&lid=LSTMOBFKCTSVH4EWXBVDOFYMD&marketplace=FLIPKART&q=iphone11&store=tyy%2F4io&srno=s_1_23&otracker=search&fm=organic&iid=3c2d51ae-468b-48fa-8b5d-1dc0a4f95ba7.MOBFKCTSVH4EWXBV.SEARCH&ppt=None&ppn=None&ssid=pq8o0qnck00000001676999300760&qH=d6db477051465f9a\n",
      "https://www.flipkart.com/apple-iphone-11-pro-gold-256-gb/p/itm2f0572b22cfc6?pid=MOBFKCTS8EGRZSAN&lid=LSTMOBFKCTS8EGRZSANWZFTRD&marketplace=FLIPKART&q=iphone11&store=tyy%2F4io&srno=s_1_24&otracker=search&fm=organic&iid=3c2d51ae-468b-48fa-8b5d-1dc0a4f95ba7.MOBFKCTS8EGRZSAN.SEARCH&ppt=None&ppn=None&ssid=pq8o0qnck00000001676999300760&qH=d6db477051465f9a\n"
     ]
    },
    {
     "ename": "AttributeError",
     "evalue": "'NoneType' object has no attribute 'a'",
     "output_type": "error",
     "traceback": [
      "\u001b[0;31m---------------------------------------------------------------------------\u001b[0m",
      "\u001b[0;31mAttributeError\u001b[0m                            Traceback (most recent call last)",
      "Cell \u001b[0;32mIn[32], line 2\u001b[0m\n\u001b[1;32m      1\u001b[0m \u001b[38;5;28;01mfor\u001b[39;00m i \u001b[38;5;129;01min\u001b[39;00m bigbox:\n\u001b[0;32m----> 2\u001b[0m     \u001b[38;5;28mprint\u001b[39m(\u001b[38;5;124m'\u001b[39m\u001b[38;5;124mhttps://www.flipkart.com\u001b[39m\u001b[38;5;124m'\u001b[39m\u001b[38;5;241m+\u001b[39m\u001b[43mi\u001b[49m\u001b[38;5;241;43m.\u001b[39;49m\u001b[43mdiv\u001b[49m\u001b[38;5;241;43m.\u001b[39;49m\u001b[43mdiv\u001b[49m\u001b[38;5;241;43m.\u001b[39;49m\u001b[43mdiv\u001b[49m\u001b[38;5;241;43m.\u001b[39;49m\u001b[43ma\u001b[49m[\u001b[38;5;124m'\u001b[39m\u001b[38;5;124mhref\u001b[39m\u001b[38;5;124m'\u001b[39m])\n",
      "\u001b[0;31mAttributeError\u001b[0m: 'NoneType' object has no attribute 'a'"
     ]
    }
   ],
   "source": [
    "for i in bigbox:\n",
    "    print('https://www.flipkart.com'+i.div.div.div.a['href'])"
   ]
  },
  {
   "cell_type": "code",
   "execution_count": null,
   "id": "f06e9229-8bd1-4eb5-97a3-7f5e52041e0b",
   "metadata": {},
   "outputs": [],
   "source": []
  },
  {
   "cell_type": "code",
   "execution_count": null,
   "id": "9d1d68db-0d18-49bf-b365-801d8e4cecb5",
   "metadata": {},
   "outputs": [],
   "source": []
  }
 ],
 "metadata": {
  "kernelspec": {
   "display_name": "Python 3 (ipykernel)",
   "language": "python",
   "name": "python3"
  },
  "language_info": {
   "codemirror_mode": {
    "name": "ipython",
    "version": 3
   },
   "file_extension": ".py",
   "mimetype": "text/x-python",
   "name": "python",
   "nbconvert_exporter": "python",
   "pygments_lexer": "ipython3",
   "version": "3.10.8"
  }
 },
 "nbformat": 4,
 "nbformat_minor": 5
}
